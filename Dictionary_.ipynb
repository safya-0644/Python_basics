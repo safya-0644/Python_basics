{
  "nbformat": 4,
  "nbformat_minor": 0,
  "metadata": {
    "colab": {
      "provenance": [],
      "authorship_tag": "ABX9TyNJaFjcqux/Tq6kskL290b7"
    },
    "kernelspec": {
      "name": "python3",
      "display_name": "Python 3"
    },
    "language_info": {
      "name": "python"
    }
  },
  "cells": [
    {
      "cell_type": "code",
      "source": [
        "#1 Convert two lists into a dictionary.\n",
        "keys = ['Ten', 'Twenty', 'Thirty']\n",
        "values = [10, 20, 30]\n",
        "dictn={}\n",
        "for i in range(len(keys)):\n",
        "  dictn[keys[i]]=values[i]\n",
        "print(dictn)"
      ],
      "metadata": {
        "colab": {
          "base_uri": "https://localhost:8080/"
        },
        "id": "qFM4GjJtLb6R",
        "outputId": "4662f1bb-d7d3-442a-b2ba-63beaae25e90"
      },
      "execution_count": null,
      "outputs": [
        {
          "output_type": "stream",
          "name": "stdout",
          "text": [
            "{'Ten': 10, 'Twenty': 20, 'Thirty': 30}\n"
          ]
        }
      ]
    },
    {
      "cell_type": "code",
      "execution_count": null,
      "metadata": {
        "colab": {
          "base_uri": "https://localhost:8080/"
        },
        "id": "e7xwlu3p70dD",
        "outputId": "aa5a7243-1db1-4331-e6b2-bf72831bd309"
      },
      "outputs": [
        {
          "output_type": "stream",
          "name": "stdout",
          "text": [
            "Enter the key: Ten Twenty Thirty\n",
            "Enter values: 10 20 30\n",
            "{'Ten': '10', 'Twenty': '20', 'Thirty': '30'}\n"
          ]
        }
      ],
      "source": [
        "#1 Convert two lists into a dictionary.\n",
        "\n",
        "key=input('Enter the key: ').split()\n",
        "value=input('Enter values: ').split()\n",
        "dictn={}\n",
        "if len(key)!=len(value):\n",
        "  print('Keys and values are not equal')\n",
        "else:\n",
        "  for i in range(len(key)):\n",
        "    dictn[key[i]]=value[i]\n",
        "  print(dictn)\n"
      ]
    },
    {
      "cell_type": "code",
      "source": [
        "#2 Merge two Python dictionaries into one\n",
        "dict1={}\n",
        "dict2={}\n",
        "\n",
        "n_range1=int(input(\"Enter the number of entries you want to add: \"))\n",
        "for i in range(n_range1):\n",
        "  key=input('Enter key: ')\n",
        "  value=input('Enter values: ')\n",
        "  dict1[key]=value\n",
        "print('dict1 values:',dict1)\n",
        "\n",
        "n_range2=int(input(\"Enter the number of entries you want to add: \"))\n",
        "for i in range(n_range1):\n",
        "  key=input('Enter key: ')\n",
        "  value=input('Enter values: ')\n",
        "  dict2[key]=value\n",
        "print('dict2 values:',dict2)\n",
        "dict1.update(dict2)\n",
        "print(dict1)"
      ],
      "metadata": {
        "colab": {
          "base_uri": "https://localhost:8080/"
        },
        "id": "yvhdqRqQALgG",
        "outputId": "2c7e5555-ba53-42ea-afa9-1a9de094930c"
      },
      "execution_count": null,
      "outputs": [
        {
          "output_type": "stream",
          "name": "stdout",
          "text": [
            "Enter the number of entries you want to add: 3\n",
            "Enter key: Ten\n",
            "Enter values: 10\n",
            "Enter key: Twenty\n",
            "Enter values: 20\n",
            "Enter key: Thirty\n",
            "Enter values: 30\n",
            "dict1 values: {'Ten': '10', 'Twenty': '20', 'Thirty': '30'}\n",
            "Enter the number of entries you want to add: 3\n",
            "Enter key: Thirty\n",
            "Enter values: 30\n",
            "Enter key: Fourty\n",
            "Enter values: 40\n",
            "Enter key: Fifty\n",
            "Enter values: 50\n",
            "dict2 values: {'Thirty': '30', 'Fourty': '40', 'Fifty': '50'}\n",
            "{'Ten': '10', 'Twenty': '20', 'Thirty': '30', 'Fourty': '40', 'Fifty': '50'}\n"
          ]
        }
      ]
    },
    {
      "cell_type": "code",
      "source": [
        "#3 Print the value of key ‘history’ from the below dict\n",
        "sampleDict = {\n",
        "    \"class\": {\n",
        "        \"student\": {\n",
        "            \"name\": \"Mike\",\n",
        "            \"marks\": {\n",
        "                \"physics\": 70,\n",
        "                \"history\": 80\n",
        "            }\n",
        "        }\n",
        "    }\n",
        "}\n",
        "print(sampleDict)\n",
        "print(sampleDict['class']['student']['marks']['history'])"
      ],
      "metadata": {
        "colab": {
          "base_uri": "https://localhost:8080/"
        },
        "id": "rqF1XC8kBLuL",
        "outputId": "c92f0b26-f6d3-4218-a8fd-ba68e6e486ce"
      },
      "execution_count": null,
      "outputs": [
        {
          "output_type": "stream",
          "name": "stdout",
          "text": [
            "{'class': {'student': {'name': 'Mike', 'marks': {'physics': 70, 'history': 80}}}}\n",
            "80\n"
          ]
        }
      ]
    },
    {
      "cell_type": "code",
      "source": [
        "#4 Initialize dictionary with default values\n",
        "\n",
        "employees = ['Kelly', 'Emma']\n",
        "defaults = {\"designation\": 'Developer', \"salary\": 8000}\n",
        "dict1={employees[0]:defaults,employees[1]:defaults}\n",
        "print(dict1)\n"
      ],
      "metadata": {
        "colab": {
          "base_uri": "https://localhost:8080/"
        },
        "id": "hzgkFhnVCNqs",
        "outputId": "a4ac43e4-1552-434f-f7d7-290dc56be05e"
      },
      "execution_count": null,
      "outputs": [
        {
          "output_type": "stream",
          "name": "stdout",
          "text": [
            "{'Kelly': {'designation': 'Developer', 'salary': 8000}, 'Emma': {'designation': 'Developer', 'salary': 8000}}\n"
          ]
        }
      ]
    },
    {
      "cell_type": "code",
      "source": [
        "#7 Check if a value exists in a dictionary\n",
        "sample_dict = {'a': 100, 'b': 200, 'c': 300}\n",
        "n=int(input('Enter the values you want to check: '))\n",
        "if n in sample_dict.values():\n",
        "  print(f'{n} is present in dict')\n",
        "else:\n",
        "  print(f'{n} not present in dict')"
      ],
      "metadata": {
        "colab": {
          "base_uri": "https://localhost:8080/"
        },
        "id": "Quqf95i_FucD",
        "outputId": "a5258ce3-623a-4aef-fbe0-770a47d54443"
      },
      "execution_count": null,
      "outputs": [
        {
          "output_type": "stream",
          "name": "stdout",
          "text": [
            "Enter the values you want to check: 100\n",
            "100 is present in dict\n"
          ]
        }
      ]
    },
    {
      "cell_type": "code",
      "source": [
        "#8 Rename key of a dictionary\n",
        "sample_dict = {\n",
        "  \"name\": \"Kelly\",\n",
        "  \"age\":25,\n",
        "  \"salary\": 8000,\n",
        "  \"city\": \"New york\"\n",
        "}\n",
        "sample_dict['location']=sample_dict['city']\n",
        "del sample_dict['city']\n",
        "print(sample_dict)\n",
        "sample_dict['location']=sample_dict.pop('city')\n",
        "print(sample_dict)"
      ],
      "metadata": {
        "colab": {
          "base_uri": "https://localhost:8080/"
        },
        "id": "i4DFZO5IKFj3",
        "outputId": "8ccbc90f-b2e6-4030-9c88-6a3e348f2eb1"
      },
      "execution_count": null,
      "outputs": [
        {
          "output_type": "stream",
          "name": "stdout",
          "text": [
            "{'name': 'Kelly', 'age': 25, 'salary': 8000, 'location': 'New york'}\n"
          ]
        }
      ]
    },
    {
      "cell_type": "code",
      "source": [
        "#9 Get the key of a minimum value from the following dictionary\n",
        "sample_dict = {\n",
        "  'Physics': 82,\n",
        "  'Math': 65,\n",
        "  'history': 75\n",
        "}\n",
        "if len(sample_dict)==0:\n",
        "  print('Empty Dict')\n",
        "else:\n",
        "  min_key=min(sample_dict.keys())\n",
        "  print(min_key)\n",
        "#print(min_val)"
      ],
      "metadata": {
        "colab": {
          "base_uri": "https://localhost:8080/"
        },
        "id": "eVJHOXrmLx8W",
        "outputId": "5a2f8205-f577-424e-aebb-b0fd02d4ddcf"
      },
      "execution_count": null,
      "outputs": [
        {
          "output_type": "stream",
          "name": "stdout",
          "text": [
            "Math\n"
          ]
        }
      ]
    },
    {
      "cell_type": "code",
      "source": [
        "#10 Change value of a key in a nested dictionary\n",
        "sample_dict = {\n",
        "    'emp1': {'name': 'Jhon', 'salary': 7500},\n",
        "    'emp2': {'name': 'Emma', 'salary': 8000},\n",
        "    'emp3': {'name': 'Brad', 'salary': 500}\n",
        "}\n",
        "print(sample_dict)\n",
        "sample_dict['emp3']['salary']=8500\n",
        "print(sample_dict)"
      ],
      "metadata": {
        "colab": {
          "base_uri": "https://localhost:8080/"
        },
        "id": "h82w8fzXNmVa",
        "outputId": "b59c2cb6-a84a-4c9e-a6f1-90f8739486a8"
      },
      "execution_count": null,
      "outputs": [
        {
          "output_type": "stream",
          "name": "stdout",
          "text": [
            "{'emp1': {'name': 'Jhon', 'salary': 7500}, 'emp2': {'name': 'Emma', 'salary': 8000}, 'emp3': {'name': 'Brad', 'salary': 500}}\n",
            "{'emp1': {'name': 'Jhon', 'salary': 7500}, 'emp2': {'name': 'Emma', 'salary': 8000}, 'emp3': {'name': 'Brad', 'salary': 8500}}\n"
          ]
        }
      ]
    }
  ]
}